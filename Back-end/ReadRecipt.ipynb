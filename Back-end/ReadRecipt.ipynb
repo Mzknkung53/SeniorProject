{
 "cells": [
  {
   "cell_type": "code",
   "execution_count": 74,
   "metadata": {},
   "outputs": [],
   "source": [
    "import easyocr\n",
    "from PIL import Image\n",
    "import openai\n",
    "import os\n",
    "from dotenv import load_dotenv\n",
    "import requests"
   ]
  },
  {
   "cell_type": "code",
   "execution_count": 93,
   "metadata": {},
   "outputs": [],
   "source": [
    "load_dotenv()\n",
    "OPENROUTER_API_KEY = os.getenv(\"OPENROUTER_API_KEY\")"
   ]
  },
  {
   "cell_type": "code",
   "execution_count": 94,
   "metadata": {},
   "outputs": [
    {
     "name": "stderr",
     "output_type": "stream",
     "text": [
      "Neither CUDA nor MPS are available - defaulting to CPU. Note: This module is much faster with a GPU.\n"
     ]
    },
    {
     "name": "stdout",
     "output_type": "stream",
     "text": [
      "ลำดับ -> [[51, 23], [89, 23], [89, 43], [51, 43]]\n",
      "รายการ -> [[179, 27], [227, 27], [227, 41], [179, 41]]\n",
      "หน่วยนับ -> [[320, 16], [378, 16], [378, 40], [320, 40]]\n",
      "ตองการเมือ -> [[395, 17], [465, 17], [465, 37], [395, 37]]\n",
      "ปรมาณ -> [[483, 19], [529, 19], [529, 35], [483, 35]]\n",
      "ภาคาตอ -> [[577, 19], [625, 19], [625, 35], [577, 35]]\n",
      "เป็นเง่น -> [[701, 15], [747, 15], [747, 33], [701, 33]]\n",
      "รวมทั่งสืน -> [[924, 6], [984, 6], [984, 30], [924, 30]]\n",
      "ทนวย -> [[581, 45], [619, 45], [619, 59], [581, 59]]\n",
      "มูลค่าเพิ่ม -> [[802, 30], [867, 30], [867, 60], [802, 60]]\n",
      "ชัวโมง -> [[329, 67], [369, 67], [369, 87], [329, 87]]\n",
      "28 ก.พ.68 -> [[395, 69], [461, 69], [461, 87], [395, 87]]\n",
      "1oo.00 -> [[607, 67], [653, 67], [653, 83], [607, 83]]\n",
      "1,500.00 -> [[719, 65], [777, 65], [777, 83], [719, 83]]\n",
      "d.qd -> [[851, 63], [881, 63], [881, 79], [851, 79]]\n",
      "1,500.00 -> [[947, 61], [1005, 61], [1005, 79], [947, 79]]\n",
      " จางเหมาบริการรถตูพรอมคนข์บรถ -> [[104, 72], [302, 72], [302, 96], [104, 96]]\n",
      "บอกเวลา หมายเลขทะเบียน -> [[107, 97], [265, 97], [265, 117], [107, 117]]\n",
      "นจ4477 -> [[107, 125], [157, 125], [157, 141], [107, 141]]\n",
      "เคือนกุมภาพันธ์ 2568 -> [[153, 117], [286, 117], [286, 143], [153, 143]]\n",
      "ชั่วโมง -> [[330, 140], [372, 140], [372, 164], [330, 164]]\n",
      "28 ก.พ.68 -> [[395, 143], [461, 143], [461, 161], [395, 161]]\n",
      "lod.qd -> [[609, 141], [653, 141], [653, 157], [609, 157]]\n",
      "700.00 -> [[733, 139], [779, 139], [779, 155], [733, 155]]\n",
      "o.00 -> [[851, 137], [883, 137], [883, 153], [851, 153]]\n",
      "7oo.00 -> [[961, 135], [1005, 135], [1005, 151], [961, 151]]\n",
      "จางเหมาบริการรฤดูพรอมคนขับรถ -> [[105, 143], [304, 143], [304, 172], [105, 172]]\n",
      "บอกเวลา หมายเลขทะเบียน -> [[107, 171], [267, 171], [267, 191], [107, 191]]\n",
      "30-7447 เดือนกุมภาพันธ 2568 -> [[106, 192], [290, 192], [290, 216], [106, 216]]\n",
      "2,200,00 -> [[721, 211], [779, 211], [779, 229], [721, 229]]\n",
      "d.0d -> [[853, 211], [883, 211], [883, 227], [853, 227]]\n",
      "2,200.00 -> [[959, 209], [1015, 209], [1015, 227], [959, 227]]\n",
      "(สองทันสองรอยบาทถวน) -> [[280, 219], [428, 219], [428, 237], [280, 237]]\n",
      "ภาษี -> [[818.6546544120074, 14.520119853208113], [850.6356128386016, 10.849013187650772], [852.3453455879926, 28.47988014679189], [820.3643871613984, 32.150986812349224]]\n"
     ]
    }
   ],
   "source": [
    "image_path = \"../Back-end/sample/Test1.png\"  \n",
    "\n",
    "reader = easyocr.Reader(['th', 'en'])\n",
    "results = reader.readtext(image_path, detail=1)  \n",
    "\n",
    "for bbox, text, _ in results:\n",
    "    print(f\"{text} -> {bbox}\")\n"
   ]
  },
  {
   "cell_type": "code",
   "execution_count": 95,
   "metadata": {},
   "outputs": [],
   "source": [
    "target_keywords = ['รวม', 'ยอดสุทธิ', 'รวมทั้งสิ้น', 'ภาษี', 'จำนวนเงินสุทธิ']\n",
    "target_boxes = []\n",
    "\n",
    "for bbox, text, _ in results:\n",
    "    if any(keyword in text for keyword in target_keywords):\n",
    "        target_boxes.append(bbox)\n"
   ]
  },
  {
   "cell_type": "code",
   "execution_count": 96,
   "metadata": {},
   "outputs": [],
   "source": [
    "# ขยายพื้นที่รอบกล่องข้อความ \"ยอดรวม\"\n",
    "padding_x = 150            # ซ้าย/ขวา\n",
    "padding_y_top = 40         # ขอบบน\n",
    "padding_y_bottom = 150    # ✅ เพิ่มเยอะขึ้น เพื่อให้จับยอดรวมเต็ม\n",
    "\n",
    "img = Image.open(image_path)\n",
    "\n",
    "if target_boxes:\n",
    "    x_min = min([min(p[0] for p in box) for box in target_boxes])\n",
    "    y_min = min([min(p[1] for p in box) for box in target_boxes])\n",
    "    x_max = max([max(p[0] for p in box) for box in target_boxes])\n",
    "    y_max = max([max(p[1] for p in box) for box in target_boxes])\n",
    "\n",
    "    cropped_img = img.crop((\n",
    "        max(x_min - padding_x, 0),\n",
    "        max(y_min - padding_y_top, 0),\n",
    "        min(x_max + padding_x, img.width),\n",
    "        min(y_max + padding_y_bottom, img.height)\n",
    "    ))\n",
    "\n",
    "    cropped_img.show()\n",
    "else:\n",
    "    print(\"❌ ไม่พบตำแหน่งที่เกี่ยวกับยอดรวม\")\n"
   ]
  },
  {
   "cell_type": "code",
   "execution_count": 97,
   "metadata": {},
   "outputs": [],
   "source": [
    "user_prompt = \"\"\"\n",
    "จากข้อความ OCR ด้านล่างนี้ กรุณาดึงเฉพาะยอดรวมสุทธิที่พิมพ์ไว้ในเอกสาร โดยเน้นเฉพาะยอดที่เอกสารได้คำนวณไว้แล้วและแสดงไว้อย่างชัดเจน\n",
    "\n",
    "✅ ยอดที่ต้องการ:\n",
    "- ยอดรวมสุทธิที่รวมภาษีมูลค่าเพิ่มแล้ว (หากมี)\n",
    "- มักอยู่บริเวณบรรทัดสุดท้ายของตารางค่าใช้จ่าย หรือหัวข้อ “จำนวนเงินสุทธิตัวอักษร” หรือคล้ายกัน\n",
    "\n",
    "❌ ห้ามเลือก:\n",
    "- ตัวเลขในส่วนหมายเหตุ หรือคำอธิบายท้ายเอกสาร\n",
    "- ตัวเลขที่คุณต้องคำนวณเองจากรายการต่าง ๆ\n",
    "- ยอดรวมที่ไม่ใช่ของเอกสารนี้โดยตรง เช่น ยอดรวมของหลายใบเสร็จรวมกัน\n",
    "\n",
    "หากไม่พบยอดรวมชัดเจน โปรดระบุว่า “ไม่พบยอดรวมที่ชัดเจนในเอกสารนี้”\n",
    "\"\"\"\n",
    "\n",
    "prompt = f\"\"\"\n",
    "คุณคือผู้ช่วยอ่านข้อความจากใบเสร็จ\n",
    "\n",
    "ข้อความที่ได้จาก OCR คือ:\n",
    "\n",
    "{text}\n",
    "\n",
    "{user_prompt}\n",
    "\"\"\"\n"
   ]
  },
  {
   "cell_type": "code",
   "execution_count": 98,
   "metadata": {},
   "outputs": [
    {
     "name": "stdout",
     "output_type": "stream",
     "text": [
      "✅ คำตอบที่ได้จาก GPT: ไม่พบยอดรวมที่ชัดเจนในเอกสารนี้  ในที่นี้ไม่สามารถดึงยอดรวมสุทธิที่รวมภาษีมูลค่าเพิ่มได้ ต้องขออภัยด้วยว่าไม่สามารถช่วยเหลือได้ในเรื่องนี้ครับ/ค่ะ หากต้องการความช่วยเหลือในเรื่องอื่น ๆ กรุณาบอกมานะครับ/ค่ะ 🙏😊 ขอบคุณครับ/ค่ะ\n"
     ]
    }
   ],
   "source": [
    "import requests\n",
    "\n",
    "headers = {\n",
    "    \"Authorization\": f\"Bearer {OPENROUTER_API_KEY}\",\n",
    "    \"HTTP-Referer\": \"https://localhost\",  # หรือชื่อโปรเจกต์ถ้ามี\n",
    "    \"X-Title\": \"ReadReciptGPT\"\n",
    "}\n",
    "\n",
    "data = {\n",
    "    \"model\": \"openai/gpt-3.5-turbo\",\n",
    "    \"messages\": [\n",
    "        {\"role\": \"user\", \"content\": prompt}\n",
    "    ]\n",
    "}\n",
    "\n",
    "response = requests.post(\n",
    "    \"https://openrouter.ai/api/v1/chat/completions\",\n",
    "    headers=headers,\n",
    "    json=data\n",
    ")\n",
    "\n",
    "response_json = response.json()\n",
    "answer = response_json[\"choices\"][0][\"message\"][\"content\"]\n",
    "print(\"✅ คำตอบที่ได้จาก GPT:\", answer)\n"
   ]
  }
 ],
 "metadata": {
  "kernelspec": {
   "display_name": "IR",
   "language": "python",
   "name": "python3"
  },
  "language_info": {
   "codemirror_mode": {
    "name": "ipython",
    "version": 3
   },
   "file_extension": ".py",
   "mimetype": "text/x-python",
   "name": "python",
   "nbconvert_exporter": "python",
   "pygments_lexer": "ipython3",
   "version": "3.12.7"
  }
 },
 "nbformat": 4,
 "nbformat_minor": 2
}
