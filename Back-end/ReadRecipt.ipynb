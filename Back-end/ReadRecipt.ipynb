{
 "cells": [
  {
   "cell_type": "code",
   "execution_count": 74,
   "metadata": {},
   "outputs": [],
   "source": [
    "import easyocr\n",
    "from PIL import Image\n",
    "import openai\n",
    "import os\n",
    "from dotenv import load_dotenv\n",
    "import requests"
   ]
  },
  {
   "cell_type": "code",
   "execution_count": 93,
   "metadata": {},
   "outputs": [],
   "source": [
    "load_dotenv()\n",
    "OPENROUTER_API_KEY = os.getenv(\"OPENROUTER_API_KEY\")"
   ]
  },
  {
   "cell_type": "code",
   "execution_count": 100,
   "metadata": {},
   "outputs": [
    {
     "name": "stderr",
     "output_type": "stream",
     "text": [
      "Neither CUDA nor MPS are available - defaulting to CPU. Note: This module is much faster with a GPU.\n"
     ]
    },
    {
     "name": "stdout",
     "output_type": "stream",
     "text": [
      "📄 ข้อความจาก OCR:\n",
      "ลำดับ\n",
      "รายการ\n",
      "หน่วยนับ\n",
      "ตองการเมือ\n",
      "ปรมาณ\n",
      "ภาคาตอ\n",
      "เป็นเง่น\n",
      "รวมทั่งสืน\n",
      "ทนวย\n",
      "มูลค่าเพิ่ม\n",
      "ชัวโมง\n",
      "28 ก.พ.68\n",
      "1oo.00\n",
      "1,500.00\n",
      "d.qd\n",
      "1,500.00\n",
      " จางเหมาบริการรถตูพรอมคนข์บรถ\n",
      "บอกเวลา หมายเลขทะเบียน\n",
      "นจ4477\n",
      "เคือนกุมภาพันธ์ 2568\n",
      "ชั่วโมง\n",
      "28 ก.พ.68\n",
      "lod.qd\n",
      "700.00\n",
      "o.00\n",
      "7oo.00\n",
      "จางเหมาบริการรฤดูพรอมคนขับรถ\n",
      "บอกเวลา หมายเลขทะเบียน\n",
      "30-7447 เดือนกุมภาพันธ 2568\n",
      "2,200,00\n",
      "d.0d\n",
      "2,200.00\n",
      "(สองทันสองรอยบาทถวน)\n",
      "ภาษี\n"
     ]
    }
   ],
   "source": [
    "image_path = \"../Back-end/sample/Test1.png\"  \n",
    "\n",
    "reader = easyocr.Reader(['th', 'en'])\n",
    "ocr_result = reader.readtext(image_path, detail=0)\n",
    "\n",
    "text = \"\\n\".join(ocr_result)\n",
    "print(\"📄 ข้อความจาก OCR:\")\n",
    "print(text)"
   ]
  },
  {
   "cell_type": "code",
   "execution_count": 103,
   "metadata": {},
   "outputs": [],
   "source": [
    "user_prompt = \"\"\"\n",
    "จากข้อความ OCR ด้านล่างนี้ กรุณาดึงเฉพาะยอดรวมสุทธิที่พิมพ์ไว้ในเอกสาร โดยต้องเป็นยอดรวมที่เอกสารคำนวณไว้แล้วอย่างชัดเจน\n",
    "\n",
    "✅ ยอดที่ต้องการ:\n",
    "- ยอดรวมสุทธิที่รวมภาษีมูลค่าเพิ่มแล้ว (ถ้ามี)\n",
    "- มักอยู่บริเวณท้ายตาราง หรือใต้คำว่า “รวมสุทธิ”, “จำนวนเงินสุทธิ”, “รวมทั้งสิ้น” หรือข้อความที่คล้ายกัน\n",
    "- ต้องเป็นยอดที่เอกสารสรุปไว้แล้ว\n",
    "\n",
    "❌ ห้าม:\n",
    "- ห้ามรวมรายการทีละบรรทัด\n",
    "- ห้ามคำนวณเอง\n",
    "- ห้ามใช้ค่าที่พบในส่วน \"หมายเหตุ\" หรือ \"คำอธิบายท้ายเอกสาร\"\n",
    "- ห้ามตอบยอดรวมจากการตีความของคุณเอง\n",
    "\n",
    "If you think you need to calculate totals from the table rows, that means the document has **not** printed the total yet.  \n",
    "Only respond with a total **if it is clearly printed in the document**.\n",
    "\n",
    "🧾 ตัวอย่างคำตอบที่ถูกต้อง:  \n",
    "72,401.96\n",
    "\n",
    "หากคุณไม่พบยอดรวมที่ชัดเจนในข้อความ ให้ตอบว่า: **ไม่พบยอดรวมที่ชัดเจนในเอกสารนี้**\n",
    "\"\"\"\n",
    "\n",
    "prompt = f\"\"\"\n",
    "คุณคือผู้ช่วยอ่านข้อความจากใบเสร็จ\n",
    "\n",
    "ข้อความที่ได้จาก OCR คือ:\n",
    "\n",
    "{text}\n",
    "\n",
    "{user_prompt}\n",
    "\"\"\"\n"
   ]
  },
  {
   "cell_type": "code",
   "execution_count": 104,
   "metadata": {},
   "outputs": [
    {
     "name": "stdout",
     "output_type": "stream",
     "text": [
      "✅ คำตอบจาก GPT: ไม่พบยอดรวมที่ชัดเจนในเอกสารนี้\n"
     ]
    }
   ],
   "source": [
    "headers = {\n",
    "    \"Authorization\": f\"Bearer {OPENROUTER_API_KEY}\",\n",
    "    \"HTTP-Referer\": \"https://localhost\",  # หรือชื่อโปรเจกต์จริง\n",
    "    \"X-Title\": \"ReadReciptGPT\"\n",
    "}\n",
    "\n",
    "data = {\n",
    "    \"model\": \"openai/gpt-3.5-turbo\",\n",
    "    \"messages\": [\n",
    "        {\"role\": \"user\", \"content\": prompt}\n",
    "    ]\n",
    "}\n",
    "\n",
    "response = requests.post(\n",
    "    \"https://openrouter.ai/api/v1/chat/completions\",\n",
    "    headers=headers,\n",
    "    json=data\n",
    ")\n",
    "\n",
    "response_json = response.json()\n",
    "answer = response_json[\"choices\"][0][\"message\"][\"content\"]\n",
    "print(\"✅ คำตอบจาก GPT:\", answer)\n"
   ]
  }
 ],
 "metadata": {
  "kernelspec": {
   "display_name": "IR",
   "language": "python",
   "name": "python3"
  },
  "language_info": {
   "codemirror_mode": {
    "name": "ipython",
    "version": 3
   },
   "file_extension": ".py",
   "mimetype": "text/x-python",
   "name": "python",
   "nbconvert_exporter": "python",
   "pygments_lexer": "ipython3",
   "version": "3.12.7"
  }
 },
 "nbformat": 4,
 "nbformat_minor": 2
}
