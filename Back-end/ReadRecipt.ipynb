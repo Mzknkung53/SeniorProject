{
 "cells": [
  {
   "cell_type": "code",
   "execution_count": 52,
   "metadata": {},
   "outputs": [],
   "source": [
    "import easyocr\n",
    "from PIL import Image\n",
    "import openai\n",
    "import os\n",
    "from dotenv import load_dotenv\n",
    "import requests\n",
    "import re"
   ]
  },
  {
   "cell_type": "code",
   "execution_count": 53,
   "metadata": {},
   "outputs": [
    {
     "name": "stdout",
     "output_type": "stream",
     "text": [
      "API Key loaded successfully.\n"
     ]
    }
   ],
   "source": [
    "load_dotenv()\n",
    "OPENROUTER_API_KEY = os.getenv(\"OPENROUTER_API_KEY\")\n",
    "\n",
    "if not OPENROUTER_API_KEY:\n",
    "    print(\"Error: OPENROUTER_API_KEY not found in .env file.\")\n",
    "else:\n",
    "    print(\"API Key loaded successfully.\")"
   ]
  },
  {
   "cell_type": "code",
   "execution_count": 54,
   "metadata": {},
   "outputs": [
    {
     "name": "stdout",
     "output_type": "stream",
     "text": [
      "Before: 2 20d,00\n",
      "After:  2 200,00\n"
     ]
    }
   ],
   "source": [
    "def clean_ocr_text(text):\n",
    "    # ลบช่องว่างเกิน และแทนที่ด้วยช่องว่างเดียว\n",
    "    text = re.sub(r'\\s+', ' ', text)\n",
    "    \n",
    "    # แก้คำผิดที่พบบ่อยจาก OCR ด้วย Dictionary\n",
    "    common_errors = {\n",
    "        \"จาย\": \"จ่าย\",\n",
    "        \"เงืน\": \"เงิน\",\n",
    "        \"ณฺ\": \"ณ\",\n",
    "        \"ฺณ\": \"ณ\",\n",
    "        \"ค้างจาย\": \"ค้างจ่าย\",\n",
    "        \"รวมจำนวนเงืน\": \"รวมจำนวนเงิน\",\n",
    "        \"รวมเป็นเง็บ\": \"รวมเป็นเงิน\",\n",
    "        \"รามภาษี\": \"รวมภาษี\",\n",
    "        \"ราคารวม\": \"รวมราคา\",\n",
    "        \"จำนวบ\": \"จำนวน\",\n",
    "        \"หนวยบับ\": \"หน่วยนับ\",\n",
    "    }\n",
    "    for wrong, correct in common_errors.items():\n",
    "        text = text.replace(wrong, correct)\n",
    "    \n",
    "    # แก้ตัวอักษรที่ OCR สับสน เช่น d, q, o ให้เป็น 0 (zero)\n",
    "    text = text.replace('d', '0').replace('q', '0').replace('o', '0')\n",
    "    \n",
    "    return text\n",
    "\n",
    "sample_text = \"2 20d,00\"\n",
    "print(\"Before:\", sample_text)\n",
    "print(\"After: \", clean_ocr_text(sample_text))"
   ]
  },
  {
   "cell_type": "code",
   "execution_count": 62,
   "metadata": {},
   "outputs": [
    {
     "name": "stderr",
     "output_type": "stream",
     "text": [
      "Neither CUDA nor MPS are available - defaulting to CPU. Note: This module is much faster with a GPU.\n"
     ]
    },
    {
     "name": "stdout",
     "output_type": "stream",
     "text": [
      "📄 ข้อความจาก OCR (ดิบ):\n",
      " บัญชี\n",
      "จำนวนเงิน\n",
      "0201001.2200000001.680101010000022.5080101000001.000000000.682220232600120.02\n",
      "42,500.00\n",
      "กองทุนเพื่อการศึกษา.วิทยาลัยศิลปะ สื่อ และเทคโนโลยี.งานจัดการศึกษาสาขาศิลปะ เสื่อ และเทคโนโลยี\n",
      " งบปี\n",
      "2568.ศาจาง\n",
      "-จายจากเงินอุดหนุนทั่วไป.ไมระบุ.รด68-d2innovative learning platform\n",
      "นวัตกรรมการจัดการเรียนการสอนรูปแบบใหม่/งานจัดการศึกษาสาขาศิลปะ  เสื่อ\n",
      "และเทคโนโลยี/อุดหนุนทั่วไป-อุดหนุนโครงการการสร้างพื้นที่การเรียนรู้สำหรับนักศึกษา(learning playground )..เงินรายได้\n",
      "รวมจำนวนเงืน\n",
      "42,500,00\n",
      " จำนวนเงินที่นำมาคำนวณภาษีหักฺณ ที่จ่าย\n",
      "42,500.00\n",
      "ภาษีเงินได้หักฺณที่จายค้างจาย\n",
      "% เงืนรายได\n",
      "425.00\n",
      " จำนวนเงินสุทธิหลังภาษี ณฺที่จ่าย\n",
      "42,075.00\n"
     ]
    }
   ],
   "source": [
    "image_path = \"../Back-end/sample/Test5.png\"  \n",
    "\n",
    "Image.open(image_path).show()\n",
    "\n",
    "reader = easyocr.Reader(['th', 'en'])\n",
    "ocr_result = reader.readtext(image_path, detail=0)  \n",
    "\n",
    "raw_text = \"\\n\".join(ocr_result)\n",
    "print(\"📄 ข้อความจาก OCR (ดิบ):\\n\", raw_text)\n"
   ]
  },
  {
   "cell_type": "code",
   "execution_count": 63,
   "metadata": {},
   "outputs": [
    {
     "name": "stdout",
     "output_type": "stream",
     "text": [
      "📄 ข้อความหลังแก้ไข OCR:\n",
      " บัญชี จำนวนเงิน 0201001.2200000001.680101010000022.5080101000001.000000000.682220232600120.02 42,500.00 กองทุนเพื่อการศึกษา.วิทยาลัยศิลปะ สื่อ และเทคโนโลยี.งานจัดการศึกษาสาขาศิลปะ เสื่อ และเทคโนโลยี งบปี 2568.ศาจาง -จ่ายจากเงินอุดหนุนทั่วไป.ไมระบุ.รด68-02inn0vative learning platf0rm นวัตกรรมการจัดการเรียนการสอนรูปแบบใหม่/งานจัดการศึกษาสาขาศิลปะ เสื่อ และเทคโนโลยี/อุดหนุนทั่วไป-อุดหนุนโครงการการสร้างพื้นที่การเรียนรู้สำหรับนักศึกษา(learning playgr0un0 )..เงินรายได้ รวมจำนวนเงิน 42,500,00 จำนวนเงินที่นำมาคำนวณภาษีหักณ ที่จ่าย 42,500.00 ภาษีเงินได้หักณที่จ่ายค้างจ่าย % เงินรายได 425.00 จำนวนเงินสุทธิหลังภาษี ณที่จ่าย 42,075.00\n"
     ]
    }
   ],
   "source": [
    "clean_text = clean_ocr_text(raw_text)\n",
    "print(\"📄 ข้อความหลังแก้ไข OCR:\\n\", clean_text)"
   ]
  },
  {
   "cell_type": "code",
   "execution_count": 64,
   "metadata": {},
   "outputs": [
    {
     "name": "stdout",
     "output_type": "stream",
     "text": [
      "📝 Prompt ที่จะส่งให้ GPT:\n",
      " \n",
      "คุณคือผู้ช่วยอ่านข้อความจากใบเสร็จหรือเอกสารทางการเงิน\n",
      "\n",
      "ข้อความที่ได้จาก OCR คือ:\n",
      "\n",
      "บัญชี\n",
      "จำนวนเงิน\n",
      "0201001.2200000001.680101010000022.5080101000001.000000000.682220232600120.02\n",
      "42,500.00\n",
      "กองทุนเพื่อการศึกษา.วิทยาลัยศิลปะ สื่อ และเทคโนโลยี.งานจัดการศึกษาสาขาศิลปะ เสื่อ และเทคโนโลยี\n",
      " งบปี\n",
      "2568.ศาจาง\n",
      "-จายจากเงินอุดหนุนทั่วไป.ไมระบุ.รด68-d2innovative learning platform\n",
      "นวัตกรรมการจัดการเรียนการสอนรูปแบบใหม่/งานจัดการศึกษาสาขาศิลปะ  เสื่อ\n",
      "และเทคโนโลยี/อุดหนุนทั่วไป-อุดหนุนโครงการการสร้างพื้นที่การเรียนรู้สำหรับนักศึกษา(learning playground )..เงินรายได้\n",
      "รวมจำนวนเงืน\n",
      "42,500,00\n",
      " จำนวนเงินที่นำมาคำนวณภาษีหักฺณ ที่จ่าย\n",
      "42,500.00\n",
      "ภาษีเงินได้หักฺณที่จายค้างจาย\n",
      "% เงืนรายได\n",
      "425.00\n",
      " จำนวนเงินสุทธิหลังภาษี ณฺที่จ่าย\n",
      "42,075.00\n",
      "\n",
      "\n",
      "📌 [THAI VERSION BELOW]\n",
      "\n",
      "จากข้อความ OCR ด้านล่างนี้ กรุณาดึงเฉพาะยอดรวมสุทธิที่พิมพ์ไว้ในเอกสาร โดยต้องเป็นยอดรวมที่เอกสารคำนวณไว้แล้วอย่างชัดเจน\n",
      "\n",
      "✅ ยอดที่ต้องการ:\n",
      "- ยอดรวมสุทธิที่รวมภาษีมูลค่าเพิ่มแล้ว (ถ้ามี)\n",
      "- มักอยู่ใต้คำว่า “รวมสุทธิ”, “รวมทั้งสิ้น”, “จำนวนเงินสุทธิ”, “จำนวนเงินสุทธิหลังภาษี ณที่จ่าย” หรือคำในภาษาอังกฤษ เช่น “Total”, “Final Amount”, “Grand Total”, “Balance Due”, “Amount Due”, “Balance Owing”\n",
      "- หากพบข้อความที่ชัดเจน เช่น \"จำนวนเงินสุทธิหลังภาษี ณที่จ่าย 42,075.00\" ให้ตอบกลับเป็น \"42,075.00\"\n",
      "- ต้องเป็นยอดที่พิมพ์ไว้แล้ว ไม่ใช่คำนวณเอง\n",
      "\n",
      "❌ ห้าม:\n",
      "- ห้ามรวมจากรายการในตารางหรือคำนวณ unit price × quantity เอง\n",
      "- ห้ามใช้เลขจากหมายเหตุหรือคำอธิบายท้ายเอกสาร\n",
      "- ห้ามเดาจากตัวเลขที่อ่านได้โดยไม่มีความชัดเจน\n",
      "\n",
      "หากไม่พบยอดรวมที่ชัดเจนในเอกสารนี้ ให้ตอบว่า: **ไม่พบยอดรวมที่ชัดเจนในเอกสารนี้**\n",
      "\n",
      "📌 [ENGLISH VERSION]\n",
      "\n",
      "From the OCR text below, extract only the final total amount that is clearly printed in the document.\n",
      "\n",
      "✅ What we want:\n",
      "- The final total amount that includes tax (if applicable) and is explicitly printed.\n",
      "- It may appear under labels like \"Total\", \"Final Amount\", \"Grand Total\", \"Net Amount\", \"Balance Due\", \"Amount Due\", or \"Balance Owing\".\n",
      "- If the printed number has minor OCR errors (e.g., '2 20d,00'), correct them logically.\n",
      "\n",
      "❌ Do NOT:\n",
      "- Do not calculate totals from individual rows (e.g., do not multiply unit price × quantity).\n",
      "- Do not use numbers from comments, footnotes, or non-summary text.\n",
      "- Do not infer totals if they are not clearly printed.\n",
      "\n",
      "If no clear total is found, reply: **Total amount not clearly stated in the document**\n",
      "\n",
      "\n"
     ]
    }
   ],
   "source": [
    "user_prompt = \"\"\"\n",
    "📌 [THAI VERSION BELOW]\n",
    "\n",
    "จากข้อความ OCR ด้านล่างนี้ กรุณาดึงเฉพาะยอดรวมสุทธิที่พิมพ์ไว้ในเอกสาร โดยต้องเป็นยอดรวมที่เอกสารคำนวณไว้แล้วอย่างชัดเจน\n",
    "\n",
    "✅ ยอดที่ต้องการ:\n",
    "- ยอดรวมสุทธิที่รวมภาษีมูลค่าเพิ่มแล้ว (ถ้ามี)\n",
    "- มักอยู่ใต้คำว่า “รวมสุทธิ”, “รวมทั้งสิ้น”, “จำนวนเงินสุทธิ”, “จำนวนเงินสุทธิหลังภาษี ณที่จ่าย” หรือคำในภาษาอังกฤษ เช่น “Total”, “Final Amount”, “Grand Total”, “Balance Due”, “Amount Due”, “Balance Owing”\n",
    "- หากพบข้อความที่ชัดเจน เช่น \"จำนวนเงินสุทธิหลังภาษี ณที่จ่าย 42,075.00\" ให้ตอบกลับเป็น \"42,075.00\"\n",
    "- ต้องเป็นยอดที่พิมพ์ไว้แล้ว ไม่ใช่คำนวณเอง\n",
    "\n",
    "❌ ห้าม:\n",
    "- ห้ามรวมจากรายการในตารางหรือคำนวณ unit price × quantity เอง\n",
    "- ห้ามใช้เลขจากหมายเหตุหรือคำอธิบายท้ายเอกสาร\n",
    "- ห้ามเดาจากตัวเลขที่อ่านได้โดยไม่มีความชัดเจน\n",
    "\n",
    "หากไม่พบยอดรวมที่ชัดเจนในเอกสารนี้ ให้ตอบว่า: **ไม่พบยอดรวมที่ชัดเจนในเอกสารนี้**\n",
    "\n",
    "📌 [ENGLISH VERSION]\n",
    "\n",
    "From the OCR text below, extract only the final total amount that is clearly printed in the document.\n",
    "\n",
    "✅ What we want:\n",
    "- The final total amount that includes tax (if applicable) and is explicitly printed.\n",
    "- It may appear under labels like \"Total\", \"Final Amount\", \"Grand Total\", \"Net Amount\", \"Balance Due\", \"Amount Due\", or \"Balance Owing\".\n",
    "- If the printed number has minor OCR errors (e.g., '2 20d,00'), correct them logically.\n",
    "\n",
    "❌ Do NOT:\n",
    "- Do not calculate totals from individual rows (e.g., do not multiply unit price × quantity).\n",
    "- Do not use numbers from comments, footnotes, or non-summary text.\n",
    "- Do not infer totals if they are not clearly printed.\n",
    "\n",
    "If no clear total is found, reply: **Total amount not clearly stated in the document**\n",
    "\"\"\"\n",
    "\n",
    "prompt = f\"\"\"\n",
    "คุณคือผู้ช่วยอ่านข้อความจากใบเสร็จหรือเอกสารทางการเงิน\n",
    "\n",
    "ข้อความที่ได้จาก OCR คือ:\n",
    "\n",
    "{text}\n",
    "\n",
    "{user_prompt}\n",
    "\"\"\"\n",
    "print(\"📝 Prompt ที่จะส่งให้ GPT:\\n\", prompt)"
   ]
  },
  {
   "cell_type": "code",
   "execution_count": 65,
   "metadata": {},
   "outputs": [
    {
     "name": "stdout",
     "output_type": "stream",
     "text": [
      "✅ คำตอบจาก GPT: จำนวนเงินสุทธิหลังภาษี ณที่จ่าย: 42,075.00\n",
      "\n",
      "📌 [THAI VERSION]\n",
      "\n",
      "ยอดรวมที่พิมพ์ไว้ในเอกสาร: 42,075.00\n",
      "\n",
      "📌 [ENGLISH VERSION]\n",
      "\n",
      "Total amount as printed in the document: 42,075.00\n"
     ]
    }
   ],
   "source": [
    "headers = {\n",
    "    \"Authorization\": f\"Bearer {OPENROUTER_API_KEY}\",\n",
    "    \"HTTP-Referer\": \"https://localhost\", \n",
    "    \"X-Title\": \"ReadReciptGPT\"\n",
    "}\n",
    "\n",
    "data = {\n",
    "    \"model\": \"openai/gpt-3.5-turbo\",\n",
    "    \"messages\": [\n",
    "        {\"role\": \"user\", \"content\": prompt}\n",
    "    ]\n",
    "}\n",
    "\n",
    "response = requests.post(\n",
    "    \"https://openrouter.ai/api/v1/chat/completions\",\n",
    "    headers=headers,\n",
    "    json=data\n",
    ")\n",
    "\n",
    "# ตรวจสอบและแสดงผลลัพธ์\n",
    "response_json = response.json()\n",
    "answer = response_json[\"choices\"][0][\"message\"][\"content\"]\n",
    "print(\"✅ คำตอบจาก GPT:\", answer)\n"
   ]
  }
 ],
 "metadata": {
  "kernelspec": {
   "display_name": "IR",
   "language": "python",
   "name": "python3"
  },
  "language_info": {
   "codemirror_mode": {
    "name": "ipython",
    "version": 3
   },
   "file_extension": ".py",
   "mimetype": "text/x-python",
   "name": "python",
   "nbconvert_exporter": "python",
   "pygments_lexer": "ipython3",
   "version": "3.12.7"
  }
 },
 "nbformat": 4,
 "nbformat_minor": 2
}
